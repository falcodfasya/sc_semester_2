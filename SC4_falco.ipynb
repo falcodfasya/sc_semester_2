{
  "nbformat": 4,
  "nbformat_minor": 0,
  "metadata": {
    "colab": {
      "provenance": [],
      "include_colab_link": true
    },
    "kernelspec": {
      "name": "python3",
      "display_name": "Python 3"
    },
    "language_info": {
      "name": "python"
    }
  },
  "cells": [
    {
      "cell_type": "markdown",
      "metadata": {
        "id": "view-in-github",
        "colab_type": "text"
      },
      "source": [
        "<a href=\"https://colab.research.google.com/github/falcodfasya/sc_semester_2/blob/main/SC4_falco.ipynb\" target=\"_parent\"><img src=\"https://colab.research.google.com/assets/colab-badge.svg\" alt=\"Open In Colab\"/></a>"
      ]
    },
    {
      "cell_type": "markdown",
      "source": [
        "Bisection"
      ],
      "metadata": {
        "id": "s9f511n5E9xq"
      }
    },
    {
      "cell_type": "code",
      "execution_count": null,
      "metadata": {
        "id": "9p6jGbLqsx1f"
      },
      "outputs": [],
      "source": [
        "#syarat f(a).f(b) < 0\n",
        "\n",
        "import numpy as np\n",
        "\n",
        "def my_bisection(f,a,b,tol):\n",
        "  #approximate a root, R. of f bounded\n",
        "  #by a and b to within tolerance\n",
        "  #|f(m)|<tol with m the mid point\n",
        "  #beetwen a and b recursive implementtation\n",
        "\n",
        "  #check if a and b bound a root\n",
        "  if np.sign (f(a)) == np.sign(f(b)):\n",
        "    raise Exception('The Scalars a and b do not bound a root')\n",
        "\n",
        "  #get mid poin\n",
        "  m = (a+b)/2\n",
        "\n",
        "  if np.abs(f(m)) < tol:\n",
        "    # stopping condition, report m as root\n",
        "    return m\n",
        "  elif np.sign(f(a))==np.sign(f(m)):\n",
        "    #case where m is an improvement on a.\n",
        "    #make recursive call with a=m\n",
        "    return my_bisection(f,m,b,tol)\n",
        "  elif np.sign(f(b))==np.sign(f(m)):\n",
        "    #case where m is an improvement on b.\n",
        "    #make recursive call with b=m\n",
        "    return my_bisection(f,a,m,tol)\n"
      ]
    },
    {
      "cell_type": "code",
      "source": [
        "f = lambda x: x**2-2\n",
        "\n",
        "r1=my_bisection(f,0,2,0.1)\n",
        "print (\"r1 =\",r1)\n",
        "r01=my_bisection(f,0,2,0.01)\n",
        "print(\"r01 =\",r01)\n",
        "\n",
        "print(\"f(r1) =\",f(r1))\n",
        "print(\"f(r01) =\",f(r01))"
      ],
      "metadata": {
        "colab": {
          "base_uri": "https://localhost:8080/"
        },
        "id": "7vVYuox2xjRS",
        "outputId": "8840df09-cd42-4f6d-8748-ca5177085d0d"
      },
      "execution_count": null,
      "outputs": [
        {
          "output_type": "stream",
          "name": "stdout",
          "text": [
            "r1 = 1.4375\n",
            "r01 = 1.4140625\n",
            "f(r1) = 0.06640625\n",
            "f(r01) = -0.00042724609375\n"
          ]
        }
      ]
    },
    {
      "cell_type": "markdown",
      "source": [
        "NEWTON RAPHSON"
      ],
      "metadata": {
        "id": "trpEkhH5zM7N"
      }
    },
    {
      "cell_type": "code",
      "source": [
        "import numpy as np\n",
        "\n",
        "f = lambda x: x**2-2\n",
        "f_prime = lambda x: 2*x\n",
        "newton_raphson = 1.4-(f(1.4))/(f_prime(1.4))\n",
        "\n",
        "print(\"newton_raphson =\",newton_raphson)\n",
        "print(\"sqrt(2) = \",np.sqrt(2))"
      ],
      "metadata": {
        "colab": {
          "base_uri": "https://localhost:8080/"
        },
        "id": "r7cNUtf0zPg5",
        "outputId": "9a5e69ea-ed3a-4cc5-a087-e4e48f410a81"
      },
      "execution_count": null,
      "outputs": [
        {
          "output_type": "stream",
          "name": "stdout",
          "text": [
            "newton_raphson = 1.4142857142857144\n",
            "sqrt(2) =  1.4142135623730951\n"
          ]
        }
      ]
    },
    {
      "cell_type": "code",
      "source": [
        "def my_newton (f, df, x0,tol):\n",
        "  #output is an estimation of the root of f\n",
        "  # using the newton Raphson metdoh\n",
        "  # recursive implementation\n",
        "  if abs (f(x0)) < tol:\n",
        "    return x0\n",
        "  else:\n",
        "    return my_newton(f,df,x0-f(x0)/df(x0),tol)"
      ],
      "metadata": {
        "id": "SA2VnE7-zmtC"
      },
      "execution_count": null,
      "outputs": []
    },
    {
      "cell_type": "code",
      "source": [
        "estimate = my_newton(f,f_prime,1.5,1e-6)\n",
        "print(\"estimate =\",estimate)\n",
        "print(\"sqrt(2) =\",np.sqrt(2))"
      ],
      "metadata": {
        "colab": {
          "base_uri": "https://localhost:8080/"
        },
        "id": "NiwKVPPo1ALx",
        "outputId": "14a12f5f-ece6-45d9-a1ce-889195cba421"
      },
      "execution_count": null,
      "outputs": [
        {
          "output_type": "stream",
          "name": "stdout",
          "text": [
            "estimate = 1.4142135623746899\n",
            "sqrt(2) = 1.4142135623730951\n"
          ]
        }
      ]
    },
    {
      "cell_type": "code",
      "source": [
        "f = lambda x: np.cos(x)-x\n",
        "\n",
        "r1=my_bisection(f,0,1,0.0001)\n",
        "print (\"r1 =\",r1)\n"
      ],
      "metadata": {
        "colab": {
          "base_uri": "https://localhost:8080/"
        },
        "id": "ERG3BmG1SZ28",
        "outputId": "616f8434-f115-4735-f5f4-3ccf8d74af5a"
      },
      "execution_count": null,
      "outputs": [
        {
          "output_type": "stream",
          "name": "stdout",
          "text": [
            "r1 = 0.7391357421875\n"
          ]
        }
      ]
    },
    {
      "cell_type": "markdown",
      "source": [
        "SOAL PAPAN\n"
      ],
      "metadata": {
        "id": "uuUvzguZSVsS"
      }
    },
    {
      "cell_type": "code",
      "source": [
        "f = lambda x: np.sin(x)-x\n",
        "\n",
        "r1=my_bisection(f,0,1,0.01)\n",
        "print (\"r1 =\",r1)\n"
      ],
      "metadata": {
        "colab": {
          "base_uri": "https://localhost:8080/"
        },
        "id": "Kv-Vs8Mx5-VQ",
        "outputId": "17aca878-92dc-4fe9-e4b7-7ce22ab3d5ab"
      },
      "execution_count": null,
      "outputs": [
        {
          "output_type": "stream",
          "name": "stdout",
          "text": [
            "r1 = 0.25\n"
          ]
        }
      ]
    },
    {
      "cell_type": "code",
      "source": [
        "f = lambda x: x**3-3*x**2+2*x\n",
        "\n",
        "r1=my_bisection(f,0,1.1,2)\n",
        "print (\"r1 =\",r1)\n"
      ],
      "metadata": {
        "colab": {
          "base_uri": "https://localhost:8080/"
        },
        "id": "9-qbvlgHYiG_",
        "outputId": "d88a3768-bb66-4a18-eafd-b9a5d7eadaf8"
      },
      "execution_count": null,
      "outputs": [
        {
          "output_type": "stream",
          "name": "stdout",
          "text": [
            "r1 = 0.55\n"
          ]
        }
      ]
    },
    {
      "cell_type": "code",
      "source": [
        "import numpy as np\n",
        "\n",
        "f = lambda x: x**3-3*x**2+2*x\n",
        "f_prime = lambda x: 3*x**2-6*x+2\n",
        "newton_raphson = 1.4-(f(1.4))/(f_prime(1.4))\n",
        "\n",
        "print(\"newton_raphson =\",newton_raphson)"
      ],
      "metadata": {
        "colab": {
          "base_uri": "https://localhost:8080/"
        },
        "id": "Fun12KH66Owu",
        "outputId": "9bae255d-bd02-4e85-93d0-6e9a2fa351a9"
      },
      "execution_count": null,
      "outputs": [
        {
          "output_type": "stream",
          "name": "stdout",
          "text": [
            "newton_raphson = 0.7538461538461535\n"
          ]
        }
      ]
    },
    {
      "cell_type": "code",
      "source": [
        "estimate = my_newton(f,f_prime,1.5,0.001)\n",
        "print(\"estimate =\",estimate)"
      ],
      "metadata": {
        "colab": {
          "base_uri": "https://localhost:8080/"
        },
        "id": "9lH1ImTv7hMP",
        "outputId": "e3d5fc7c-d839-455a-a937-49c5dee4e26d"
      },
      "execution_count": null,
      "outputs": [
        {
          "output_type": "stream",
          "name": "stdout",
          "text": [
            "estimate = 0.0\n"
          ]
        }
      ]
    }
  ]
}